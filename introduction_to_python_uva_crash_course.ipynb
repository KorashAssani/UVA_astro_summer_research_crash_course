{
 "cells": [
  {
   "cell_type": "markdown",
   "id": "other-courage",
   "metadata": {},
   "source": [
    "# Introduction To Python - UVA Astro Crash Course \n",
    "\n",
    "By: Korash Assani, 2022"
   ]
  },
  {
   "cell_type": "markdown",
   "id": "flexible-insulin",
   "metadata": {},
   "source": [
    "*Debugging is twice as hard as writing the code in the first place. Therefore, if you write the code as cleverly as possible, you are, by definition, not smart enough to debug it.* - Brian W. Kernighan"
   ]
  },
  {
   "cell_type": "markdown",
   "id": "secondary-collectible",
   "metadata": {},
   "source": [
    "## Syntax"
   ]
  },
  {
   "cell_type": "markdown",
   "id": "color-round",
   "metadata": {},
   "source": [
    "### Execution"
   ]
  },
  {
   "cell_type": "code",
   "execution_count": null,
   "id": "destroyed-powder",
   "metadata": {},
   "outputs": [],
   "source": [
    "print('Hello World!')\n",
    "print        ('Hello World!')"
   ]
  },
  {
   "cell_type": "markdown",
   "id": "unlikely-amber",
   "metadata": {},
   "source": [
    "### Indentation\n",
    "\n",
    "Indentation in python is very important. This refers to the spaces at the beginning of the code line.\n",
    "Python uses indentation to represent a block of code. Other languages often use indentation for readibility while for python, indentation matters. \n",
    "\n",
    "Fix the following code:"
   ]
  },
  {
   "cell_type": "code",
   "execution_count": null,
   "id": "normal-soundtrack",
   "metadata": {},
   "outputs": [],
   "source": [
    "if 2>1:\n",
    "print('Hello World!')"
   ]
  },
  {
   "cell_type": "markdown",
   "id": "finite-haiti",
   "metadata": {},
   "source": [
    "### Commenting"
   ]
  },
  {
   "cell_type": "code",
   "execution_count": null,
   "id": "wrong-stereo",
   "metadata": {},
   "outputs": [],
   "source": [
    "# This is a comment\n",
    "print(\"Hello World\") # print statement\n",
    "# print(\"Hello World\")"
   ]
  },
  {
   "cell_type": "code",
   "execution_count": null,
   "id": "stupid-measure",
   "metadata": {},
   "outputs": [],
   "source": [
    "'''\n",
    "This is a comment\n",
    "with multiple \n",
    "lines. This formatting is good \n",
    "when you're description of the code\n",
    "is long.  \n",
    "'''"
   ]
  },
  {
   "cell_type": "markdown",
   "id": "logical-miracle",
   "metadata": {},
   "source": [
    "## Variables\n",
    "Variables are declared the moment you assign a value to it."
   ]
  },
  {
   "cell_type": "code",
   "execution_count": null,
   "id": "indian-anger",
   "metadata": {},
   "outputs": [],
   "source": [
    "x1 = 1     # I am an integer\n",
    "x2 = 1.0   # I am a floating point number\n",
    "x3 = 1e6   # I am also a floating point number 1e6 = 1*10^6 \n",
    "x4 = 'one' # I am a string\n",
    "x5 = \"two\" # I am also a string\n",
    "print(type(x1))\n",
    "print(type(x2))\n",
    "print(type(x3))\n",
    "print(type(x4))\n",
    "print(type(x5))"
   ]
  },
  {
   "cell_type": "markdown",
   "id": "isolated-elephant",
   "metadata": {},
   "source": [
    "- Not all operations are allowed between different types of variables"
   ]
  },
  {
   "cell_type": "code",
   "execution_count": null,
   "id": "adolescent-republican",
   "metadata": {},
   "outputs": [],
   "source": [
    "print('integer + integer: ',  x1+x1) \n",
    "print('integer + floating:' ,  x1+x2) \n",
    "print('floating + floating:',  x2+x2) \n",
    "print('string + string:', x3+x4)\n",
    "print('integer + string '  , x1+x3) \n",
    "print('floating + string', x2 + x3)\n"
   ]
  },
  {
   "cell_type": "markdown",
   "id": "twelve-frost",
   "metadata": {},
   "source": [
    "- Variables are case sensitive"
   ]
  },
  {
   "cell_type": "code",
   "execution_count": null,
   "id": "distributed-capture",
   "metadata": {},
   "outputs": [],
   "source": [
    "avar = 20\n",
    "Avar = 30\n",
    "print(avar)"
   ]
  },
  {
   "cell_type": "markdown",
   "id": "beautiful-article",
   "metadata": {},
   "source": [
    "- Variables must start with letters or underscores (not numbers)"
   ]
  },
  {
   "cell_type": "code",
   "execution_count": null,
   "id": "modular-hawaiian",
   "metadata": {},
   "outputs": [],
   "source": [
    "HappyVariable = 'Yay!!!'\n",
    "Happy_Variable = 'Woohoo!!!'\n",
    "_Happy_Variable = ':D'\n",
    "print(HappyVariable,Happy_Variable, _Happy_Variable)"
   ]
  },
  {
   "cell_type": "code",
   "execution_count": null,
   "id": "nominated-harrison",
   "metadata": {},
   "outputs": [],
   "source": [
    "3Sad_Variable = 'Booo'\n",
    "Sad-Variable = 'Why this not work'\n",
    "Sad Variable = ':('\n",
    "print(3Sad_Variable,Sad-Variable, Sad Variable)"
   ]
  },
  {
   "cell_type": "markdown",
   "id": "absolute-truck",
   "metadata": {},
   "source": [
    "- Variables will override each other if used multiple times"
   ]
  },
  {
   "cell_type": "code",
   "execution_count": null,
   "id": "ordinary-theta",
   "metadata": {},
   "outputs": [],
   "source": [
    "first = second = third = 1.\n",
    "print(first,second,third)\n",
    "second=13\n",
    "print(first,second,third)"
   ]
  },
  {
   "cell_type": "markdown",
   "id": "related-subsection",
   "metadata": {},
   "source": [
    "### Boolean Variables\n",
    "There are many cases where you need to know if an expression is True or False\n",
    "\n",
    "you can evaluate any expression in python recieving either True or False. "
   ]
  },
  {
   "cell_type": "code",
   "execution_count": null,
   "id": "level-version",
   "metadata": {},
   "outputs": [],
   "source": [
    "billy = 23\n",
    "sally = 24\n",
    "hally = 23\n",
    "print('Is Billy older than Sally?                     ',   billy > sally)\n",
    "print('Is Sally older than Billy?                     ',   sally > billy)\n",
    "print('Are Sally and Billy the same age?              ',   sally == billy)\n",
    "print('Is Billy younger than or the same age as Hally?', billy <= hally)\n",
    "print('Is Billy younger than Hally?                   ', billy < hally)\n",
    "print('Are Billy and Hally the same age?              ', billy == hally)"
   ]
  },
  {
   "cell_type": "markdown",
   "id": "duplicate-words",
   "metadata": {},
   "source": [
    "## Operators\n",
    "\n",
    "Operators perform operations on variables and values. "
   ]
  },
  {
   "cell_type": "markdown",
   "id": "tough-bobby",
   "metadata": {},
   "source": [
    "### Arithmetic Operators"
   ]
  },
  {
   "cell_type": "code",
   "execution_count": null,
   "id": "frank-sunday",
   "metadata": {},
   "outputs": [],
   "source": [
    "x = 25.\n",
    "y = 7.\n",
    "z1 = x + y # Addition\n",
    "z2 = x - y # subtraction\n",
    "z3 = x * y   # multiplication\n",
    "z4 = x / y   # division\n",
    "z5 = x % y   # modulus\n",
    "z6 = x ** y  # exponentiation\n",
    "z7 = x // y  # floor division\n",
    "print(z1,z2,z3,z4,z5,z6,z7)"
   ]
  },
  {
   "cell_type": "markdown",
   "id": "prepared-feeding",
   "metadata": {},
   "source": [
    "### Assignment Operators"
   ]
  },
  {
   "cell_type": "code",
   "execution_count": null,
   "id": "seven-landing",
   "metadata": {},
   "outputs": [],
   "source": [
    "xnew = 5 # x = 5\n",
    "print('xnew =  5:  ', xnew)\n",
    "xnew += 3 # x = x + 3\n",
    "print('xnew += 3: ', xnew)\n",
    "xnew -= 3 # x = x - 3\n",
    "print('xnew -= 3: ', xnew)\n",
    "xnew *= 3 # x = x*3\n",
    "print('xnew *= 3: ', xnew)"
   ]
  },
  {
   "cell_type": "markdown",
   "id": "spread-science",
   "metadata": {},
   "source": [
    "### Comparison & Logical Operators"
   ]
  },
  {
   "cell_type": "code",
   "execution_count": null,
   "id": "structural-witch",
   "metadata": {},
   "outputs": [],
   "source": [
    "x1 = 5\n",
    "x2 = 5\n",
    "x3 = 10\n",
    "print(x1 < 10 and x1==x2) # and: returns if both statements true\n",
    "print(x1 < 10 and x1 < x2) \n",
    "print(x1 < 10 or  x1 < x2)# or: returns if one of the statements is true\n",
    "print(not(x1 < 10 or x1==x2))# returns the reverse of the result"
   ]
  },
  {
   "cell_type": "markdown",
   "id": "sustained-accountability",
   "metadata": {},
   "source": [
    "# Functions"
   ]
  },
  {
   "cell_type": "code",
   "execution_count": null,
   "id": "characteristic-bulgaria",
   "metadata": {},
   "outputs": [],
   "source": [
    "# functions w/o arguments\n",
    "def helloworld():\n",
    "    print('Hello World!')\n",
    "    return"
   ]
  },
  {
   "cell_type": "code",
   "execution_count": null,
   "id": "ruled-senegal",
   "metadata": {},
   "outputs": [],
   "source": [
    "helloworld()"
   ]
  },
  {
   "cell_type": "code",
   "execution_count": null,
   "id": "second-portuguese",
   "metadata": {},
   "outputs": [],
   "source": [
    "# functions w/ arguments\n",
    "#   note: print() is a function itself \n",
    "def print1(string):\n",
    "    print(string)\n",
    "    return\n",
    "def print2(string1,string2):\n",
    "    print(string1,string2)\n",
    "    return"
   ]
  },
  {
   "cell_type": "code",
   "execution_count": null,
   "id": "educational-iceland",
   "metadata": {},
   "outputs": [],
   "source": [
    "print1('Hello World!')\n",
    "print2('Hello','World!')"
   ]
  },
  {
   "cell_type": "markdown",
   "id": "featured-lending",
   "metadata": {},
   "source": [
    "### PRACTICE\n",
    "Example 1: Try making your own function that does the following:\n",
    "- reads in two numbers\n",
    "- returns the added sum of the two numbers"
   ]
  },
  {
   "cell_type": "code",
   "execution_count": null,
   "id": "static-subcommittee",
   "metadata": {},
   "outputs": [],
   "source": [
    "# Write your code here:\n",
    "def add():\n",
    "    return"
   ]
  },
  {
   "cell_type": "code",
   "execution_count": null,
   "id": "supposed-curtis",
   "metadata": {},
   "outputs": [],
   "source": [
    "add(1e6,1000.)"
   ]
  },
  {
   "cell_type": "code",
   "execution_count": null,
   "id": "antique-thumb",
   "metadata": {},
   "outputs": [],
   "source": []
  },
  {
   "cell_type": "markdown",
   "id": "numerous-telling",
   "metadata": {},
   "source": [
    "# Python Arrays\n",
    "- lists: a collection which is ordered and changeable. Can consist of duplicates, and different types\n",
    "- Dictionary: a collection which is ordered and changeable. No duplicate members.\n",
    "- Tuple: a collection which is ordered and unchangeable (store multiple items in a signle variable)\n",
    "- Numpy Arrays: a grid of values, all of the same type, indexed by a tuple of nonngegative integers. \n",
    "\n",
    "    note: Python < 3.7: dictionaries are unordered\n",
    "    \n",
    "       Python >=3.7: dictionaries are ordered."
   ]
  },
  {
   "cell_type": "markdown",
   "id": "celtic-restaurant",
   "metadata": {},
   "source": [
    "## Lists & Indexing"
   ]
  },
  {
   "cell_type": "code",
   "execution_count": null,
   "id": "greatest-quantity",
   "metadata": {},
   "outputs": [],
   "source": [
    "list1 = [0,1,2,3.3,4,5,6.8,7,8,9]\n",
    "list2 = ['hi,','how', 'ya', 'doin?']\n",
    "list3 = ['hi',15, 38.0, 'is this list okay?', 40]"
   ]
  },
  {
   "cell_type": "code",
   "execution_count": null,
   "id": "special-meditation",
   "metadata": {},
   "outputs": [],
   "source": [
    "print('list1 is:', list1)\n",
    "print('list2 is:', list2)\n",
    "print('the 3rd value in list1 is: ', list1[2])\n",
    "print('the last value in list2 is:', list2[-1])\n",
    "print('lists can have different types:', list3)"
   ]
  },
  {
   "cell_type": "markdown",
   "id": "photographic-bangladesh",
   "metadata": {},
   "source": [
    "- Indices in python start with 0,1,2,3,4,....\n",
    "- operand limits apply to lists as well:"
   ]
  },
  {
   "cell_type": "code",
   "execution_count": null,
   "id": "experienced-messaging",
   "metadata": {},
   "outputs": [],
   "source": [
    "print('adding two different indices of a list:', list1[5]+list1[2])\n",
    "print('adding integers and/or floating points in a list! ', sum(list1))\n",
    "print('numbers + strings is no good' , list1[1]+list2[1])"
   ]
  },
  {
   "cell_type": "code",
   "execution_count": null,
   "id": "adult-spring",
   "metadata": {},
   "outputs": [],
   "source": [
    "print('You can also extract a range of indices:', list1[3:8], list2[1:4] ) # get the second through fifth indices"
   ]
  },
  {
   "cell_type": "markdown",
   "id": "crude-sherman",
   "metadata": {},
   "source": [
    "## Dictionaries\n",
    "Dictionaries are used to store data in key:value(s) pairs. "
   ]
  },
  {
   "cell_type": "markdown",
   "id": "purple-savannah",
   "metadata": {},
   "source": [
    "1. Creating a dictionary: provide 0 or more key-value(s) pairs between {}"
   ]
  },
  {
   "cell_type": "code",
   "execution_count": null,
   "id": "peaceful-quick",
   "metadata": {},
   "outputs": [],
   "source": [
    "empty_dict = {}\n",
    "messier_objects = {'names':['M1','M2','M3','M4'],\n",
    "                   'dist (ly)': [6.523,5.5e4,3.39e4,7175],\n",
    "                   'apparent mag' : [8.4, 6.5, 6.2, 5.6]}\n",
    "messier_objects"
   ]
  },
  {
   "cell_type": "markdown",
   "id": "virgin-space",
   "metadata": {},
   "source": [
    "2. Accessing values: access value in list by using keys and/or indices"
   ]
  },
  {
   "cell_type": "code",
   "execution_count": null,
   "id": "checked-start",
   "metadata": {},
   "outputs": [],
   "source": [
    "# keys method returns keys\n",
    "messier_objects.keys()"
   ]
  },
  {
   "cell_type": "code",
   "execution_count": null,
   "id": "regulated-simulation",
   "metadata": {},
   "outputs": [],
   "source": [
    "# value method returns values\n",
    "messier_objects.values()"
   ]
  },
  {
   "cell_type": "code",
   "execution_count": null,
   "id": "wicked-joint",
   "metadata": {},
   "outputs": [],
   "source": [
    "# items method returns key-value pairs in tuples\n",
    "messier_objects.items()"
   ]
  },
  {
   "cell_type": "code",
   "execution_count": null,
   "id": "electronic-resolution",
   "metadata": {},
   "outputs": [],
   "source": [
    "# to index, convert into a list\n",
    "names = messier_objects['names']\n",
    "print(names)\n",
    "print(names[0])"
   ]
  },
  {
   "cell_type": "code",
   "execution_count": null,
   "id": "prompt-royalty",
   "metadata": {},
   "outputs": [],
   "source": [
    "# another method\n",
    "distances = messier_objects.get('dist (ly)')\n",
    "print(distances)"
   ]
  },
  {
   "cell_type": "markdown",
   "id": "straight-money",
   "metadata": {},
   "source": [
    "3. Adding an item"
   ]
  },
  {
   "cell_type": "code",
   "execution_count": null,
   "id": "promotional-brook",
   "metadata": {},
   "outputs": [],
   "source": [
    "#add an item\n",
    "messier_objects['names'].append('M5')\n",
    "messier_objects['dist (ly)'].append(24460.)\n",
    "messier_objects['apparent mag'].append(5.6)\n",
    "messier_objects\n"
   ]
  },
  {
   "cell_type": "markdown",
   "id": "applicable-pledge",
   "metadata": {},
   "source": [
    "## Numpy Arrays\n",
    "\n",
    "Core library for scientific computing in python. Allows you to work with multidimensional array objects, as well as providing tools for working with them. (good for high-performance) \n",
    "\n",
    " - rank: number of dimensions\n",
    " - shape: typle of integers giving size of array along each dimension\n",
    " \n",
    " see: https://cs231n.github.io/python-numpy-tutorial/ for more info"
   ]
  },
  {
   "cell_type": "code",
   "execution_count": null,
   "id": "quarterly-subject",
   "metadata": {},
   "outputs": [],
   "source": [
    "import numpy as np\n",
    "\n",
    "# Rank 1 Array\n",
    "arr1 = np.array([1,2,3])\n",
    "print(type(arr1))\n",
    "print(arr1.shape)\n",
    "print(arr1[0], arr1[1], arr1[2])\n",
    "print(arr1)\n",
    "\n",
    "# Rank 2\n",
    "arr2 = np.array([[1,2,3],[4,5,6]])\n",
    "print(arr2.shape)\n",
    "print(arr2[0,0], arr2[0,1], arr2[1,2])"
   ]
  },
  {
   "cell_type": "code",
   "execution_count": null,
   "id": "greek-packet",
   "metadata": {},
   "outputs": [],
   "source": [
    "# Creating Arrays\n",
    "arr3 = np.zeros((3,3)) # array of all zeros\n",
    "print('arr3 = ', arr3) # \n",
    "\n",
    "arr4 = np.ones((1,5)) # an array of all ones\n",
    "print('arr4 = ', arr4)\n",
    "\n",
    "arr5 = np.full((4,4), 8.) # constant array\n",
    "print('arr5 = ', arr5)\n",
    "\n",
    "arr6 = np.eye(8) # 8x8 identity matrix\n",
    "print('arr6 =', arr6)"
   ]
  },
  {
   "cell_type": "markdown",
   "id": "removable-panel",
   "metadata": {},
   "source": [
    "### Array Indexing\n",
    "There are several ways to index a numpy array"
   ]
  },
  {
   "cell_type": "code",
   "execution_count": null,
   "id": "lonely-juvenile",
   "metadata": {},
   "outputs": [],
   "source": [
    "arr7 = np.array([[1,2,3,4],[5,6,7,8],[9,10,11,12]]) # rank two with shape (3,4)"
   ]
  },
  {
   "cell_type": "code",
   "execution_count": null,
   "id": "seven-provincial",
   "metadata": {},
   "outputs": [],
   "source": [
    "print(arr7[0,3]) # spicks out first row, 4th position\n",
    "\n",
    "print(arr7[:2,1:3]) # picks out first two rows, columns 1 and 2\n",
    "\n",
    "arr7[0,3] = 1e6 # can also replace values\n",
    "arr7"
   ]
  },
  {
   "cell_type": "code",
   "execution_count": null,
   "id": "funny-tyler",
   "metadata": {},
   "outputs": [],
   "source": [
    "# integer indexing\n",
    "print(arr7[1,:]) # rank 1 view of 2nd row \n",
    "print(arr7[1:2,:]) #rank 2 view of second row"
   ]
  },
  {
   "cell_type": "markdown",
   "id": "heard-entity",
   "metadata": {},
   "source": [
    "### Array math\n",
    "math functions operate elementwise on arrays, available as both operator overloads and functions"
   ]
  },
  {
   "cell_type": "code",
   "execution_count": null,
   "id": "happy-inflation",
   "metadata": {},
   "outputs": [],
   "source": [
    "arr8 = np.array([[-1,2],[3,4]], dtype=np.float64) # note specifying data type\n",
    "arr9 = np.array([[5,6],[7,8]], dtype=np.float64)\n",
    "print('ADD:')\n",
    "print(arr8 + arr9)\n",
    "print(np.add(arr8,arr9))\n",
    "print('SUBTRACT:')\n",
    "print(arr8-arr9)\n",
    "print(np.subtract(arr8,arr9))\n",
    "print('PRODUCT (elementwise)')\n",
    "print(arr8*arr9)\n",
    "print(np.multiply(arr8,arr9))\n",
    "print('DIVISION (elementwise)')\n",
    "print(arr8/arr9)\n",
    "print('SQRT:', np.sqrt(arr8))\n",
    "print('SUM:', np.sum(arr8))\n",
    "print('sum axis 0:', np.sum(arr8,axis=0))\n",
    "print()\n"
   ]
  },
  {
   "cell_type": "markdown",
   "id": "surface-establishment",
   "metadata": {},
   "source": [
    "# Looping"
   ]
  },
  {
   "cell_type": "markdown",
   "id": "confirmed-decrease",
   "metadata": {},
   "source": [
    "## For Loops: \n",
    "    for x in y:\n",
    "        <code>\n",
    "    \n",
    "    \n",
    "    x is a new variable created on spot    \n",
    "    y is a pre-defined iterable\n",
    "   "
   ]
  },
  {
   "cell_type": "code",
   "execution_count": null,
   "id": "champion-vietnam",
   "metadata": {},
   "outputs": [],
   "source": [
    "fibonacci = [0,1,1,2,3,5,8,13,21]\n",
    "for i in fibonacci:\n",
    "    print(i)"
   ]
  },
  {
   "cell_type": "code",
   "execution_count": null,
   "id": "novel-fountain",
   "metadata": {},
   "outputs": [],
   "source": [
    "# loop through predefined distances list  to create a scaled list in meters\n",
    "distlist = messier_objects['dist (ly)']\n",
    "dscale = []\n",
    "for dist in distlist:\n",
    "    dist_pc = dist*0.306601 # convert light years (ly) to parsecs (pc)\n",
    "    dscale.append(dist_pc)\n",
    "\n",
    "# add list to messier_objects dataframe (can't repeat keys or overrides)\n",
    "messier_objects['dist (pc)'] = dscale\n",
    "messier_objects"
   ]
  },
  {
   "cell_type": "markdown",
   "id": "thermal-herald",
   "metadata": {},
   "source": [
    "## While Loops\n",
    "    while z:\n",
    "        <code>\n",
    "    \n",
    "    z is a boolean (T/F) statement\n"
   ]
  },
  {
   "cell_type": "code",
   "execution_count": null,
   "id": "fiscal-education",
   "metadata": {},
   "outputs": [],
   "source": [
    "i = 0.\n",
    "while i < 10.:\n",
    "    print(i)\n",
    "    i += 1."
   ]
  },
  {
   "cell_type": "markdown",
   "id": "composite-trust",
   "metadata": {},
   "source": [
    "# if-elif-else \n",
    "    if condition:\n",
    "        <code>\n",
    "    elif condition:\n",
    "        <code>\n",
    "    else:\n",
    "        <code>\n",
    "        "
   ]
  },
  {
   "cell_type": "code",
   "execution_count": null,
   "id": "familiar-costa",
   "metadata": {},
   "outputs": [],
   "source": [
    "i = 0.\n",
    "while i < 10:\n",
    "    if i < 2:\n",
    "        print(i, '< 2')\n",
    "    elif i == 7:\n",
    "        print(i, 'lucky number 7!')\n",
    "    elif 2 <= i < 8:\n",
    "        print(i, '2 <= i < 8')\n",
    "    else:\n",
    "        print( i,'i>-8')\n",
    "    i += 1\n",
    "        \n",
    "    "
   ]
  },
  {
   "cell_type": "markdown",
   "id": "several-vegetable",
   "metadata": {},
   "source": [
    "# Importing Modules\n",
    "\n",
    "Allows you to import code from other files and use it"
   ]
  },
  {
   "cell_type": "code",
   "execution_count": null,
   "id": "composed-companion",
   "metadata": {},
   "outputs": [],
   "source": [
    "import numpy as np"
   ]
  },
  {
   "cell_type": "code",
   "execution_count": null,
   "id": "considered-environment",
   "metadata": {},
   "outputs": [],
   "source": [
    "# multiply every index of fibonacci by 2\n",
    "new_array = 2.0*fibonacci\n",
    "print(new_array)"
   ]
  },
  {
   "cell_type": "code",
   "execution_count": null,
   "id": "arranged-credits",
   "metadata": {},
   "outputs": [],
   "source": [
    "# Oh no! math with lists are kinda difficult -> use numpy arrays!\n",
    "new_array = 2.0*np.array(fibonacci)\n",
    "print(new_array)"
   ]
  },
  {
   "cell_type": "markdown",
   "id": "human-grave",
   "metadata": {},
   "source": [
    "# Problem Solving Hints\n",
    "\n",
    "1. What problem are you tying to solve? \n",
    "2. What methods are you using to solve the problem? \n",
    "3. What do you know how to do, and what don't you know?\n",
    "4. How do I word my question? \n",
    "\n",
    " - google google google -> \"How to make a dictionary python\", \"How to make NxM dimensional array with numpy?\"\n",
    " - Stack overflow (https://stackoverflow.com/)\n",
    " - Youtube\n",
    " - PRACTICE (http://www.practicepython.org/)\n",
    " - Ask friends and/or advisors"
   ]
  },
  {
   "cell_type": "markdown",
   "id": "recognized-original",
   "metadata": {},
   "source": [
    "# Practice\n",
    "\n",
    "Problem: In the messier_objects dictionary above, there is a key  called \"apparent mag\" representing the apparent magnitude of the messier objects. \n",
    "\n",
    "Create a function that returns the aboslute magnitude of each object using the following formula:\n",
    "\n",
    "    m - M = -5 + 5 Log(d)\n",
    "        \n",
    "        - m=apparent magnitude\n",
    "        - M = absolute magnitude\n",
    "        - d = distance measured in parsecs (pc)\n",
    "hint1: Solve for \"M\" in the equation, then create a loop over the dictionary values creating a new list of absolute magnitudes\n",
    "\n",
    "hint2: use numpy.log10(d) or math.log10(d)"
   ]
  },
  {
   "cell_type": "code",
   "execution_count": null,
   "id": "protecting-works",
   "metadata": {},
   "outputs": [],
   "source": []
  },
  {
   "cell_type": "code",
   "execution_count": null,
   "id": "foster-ticket",
   "metadata": {},
   "outputs": [],
   "source": []
  },
  {
   "cell_type": "code",
   "execution_count": null,
   "id": "substantial-edwards",
   "metadata": {},
   "outputs": [],
   "source": []
  },
  {
   "cell_type": "code",
   "execution_count": null,
   "id": "medical-dairy",
   "metadata": {},
   "outputs": [],
   "source": []
  },
  {
   "cell_type": "code",
   "execution_count": null,
   "id": "approved-prague",
   "metadata": {},
   "outputs": [],
   "source": []
  },
  {
   "cell_type": "code",
   "execution_count": null,
   "id": "romance-roommate",
   "metadata": {},
   "outputs": [],
   "source": []
  },
  {
   "cell_type": "code",
   "execution_count": null,
   "id": "personal-quality",
   "metadata": {},
   "outputs": [],
   "source": []
  },
  {
   "cell_type": "code",
   "execution_count": null,
   "id": "conceptual-camel",
   "metadata": {},
   "outputs": [],
   "source": []
  },
  {
   "cell_type": "code",
   "execution_count": null,
   "id": "forced-tuner",
   "metadata": {},
   "outputs": [],
   "source": []
  },
  {
   "cell_type": "code",
   "execution_count": null,
   "id": "basic-western",
   "metadata": {},
   "outputs": [],
   "source": []
  },
  {
   "cell_type": "code",
   "execution_count": null,
   "id": "chicken-profit",
   "metadata": {},
   "outputs": [],
   "source": []
  },
  {
   "cell_type": "markdown",
   "id": "yellow-conversion",
   "metadata": {},
   "source": [
    "# ANSWER (one method)"
   ]
  },
  {
   "cell_type": "code",
   "execution_count": null,
   "id": "macro-administrator",
   "metadata": {},
   "outputs": [],
   "source": [
    "def absmag(m,d):\n",
    "    M = m + 5 - 5*np.log10(d)\n",
    "    return M"
   ]
  },
  {
   "cell_type": "code",
   "execution_count": null,
   "id": "parliamentary-campbell",
   "metadata": {},
   "outputs": [],
   "source": [
    "appmags = np.array(messier_objects['apparent mag'])\n",
    "dists = np.array(messier_objects['dist (pc)'])\n",
    "absolutemags = absmag(appmags,dists)\n",
    "messier_objects['absolute mags'] = absolutemags\n",
    "messier_objects"
   ]
  },
  {
   "cell_type": "code",
   "execution_count": null,
   "id": "stainless-upgrade",
   "metadata": {},
   "outputs": [],
   "source": []
  }
 ],
 "metadata": {
  "kernelspec": {
   "display_name": "Python 3",
   "language": "python",
   "name": "python3"
  },
  "language_info": {
   "codemirror_mode": {
    "name": "ipython",
    "version": 3
   },
   "file_extension": ".py",
   "mimetype": "text/x-python",
   "name": "python",
   "nbconvert_exporter": "python",
   "pygments_lexer": "ipython3",
   "version": "3.9.9"
  }
 },
 "nbformat": 4,
 "nbformat_minor": 5
}
